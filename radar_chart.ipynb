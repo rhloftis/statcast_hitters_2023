{
 "cells": [
  {
   "cell_type": "markdown",
   "id": "b6e66a67",
   "metadata": {},
   "source": [
    "# Team 3 Final Project: Statcast Comparison Radar for the 2023 MLB Season\n",
    "By Richard Loftis"
   ]
  },
  {
   "cell_type": "markdown",
   "id": "f6f7da35",
   "metadata": {},
   "source": [
    "For my project, I have developed a dashboard on Python that allows users to compare Statcast performance of metrics of MLB players for the ongoing MLB season.\n",
    "\n",
    "The data source for this project is BaseballSavant (baseballsavant.mlb.com). BaseballSavant is a data collection and visualization website put out by MLB. Unlike most traditional baseball statistic pages which focus on result-based metrics, BaseballSavant uniquely analyzes Statcast metrics, which focus on projected and expected metrics. Officially, according to MLB, Statcast is “a state-of-the-art tracking technology that allows for the collection and analysis of a massive amount of baseball data, in ways that were never possible in the past”. With cameras and radars now installed in every major league ballpark, Statcast can record metrics that cannot be quantified to the naked eye, such as the exit velocity of a batted ball, the sprint speed of a baserunner, or the spin rate of a pitch. With these new collection abilities, new metrics have been created that measure the raw performance of a player’s activities, such as expected metrics. In my project, I use these expected metrics (along with others) that are provided by BaseballSavant to look at the performance of MLB players. Along with this viewing of the individual player, I have created a radar that overlays these metrics for two players, allowing for direct comparisons.\n",
    "\n",
    "MLB player statistics are incredibly important to keep track of and help individuals with any type of stake in the game make decisions. With the number of statistics looked at, numbers can be hard to sort through and keep track of, as well as understand in a visually clear way. That is the purpose of the project, to create a visually clear and accurate display allowing individuals to search for any MLB player, see how they have performed using different metrics, and compare it to another player.\n",
    "\n",
    "The final product that allows an individual to search for any MLB players and see all their statistics displayed will be useful to many. General managers care about statistics when making decisions for roster construction and player evaluation. They can also see if a player is overvalued or undervalued, and make decisions in player development and trades. A coach may use this data in scouting and creating a game plan, as well as creating strategy, lineups, and making real-time game decisions. A player can use this data to understand their strengths and weaknesses, as well as evaluate their opponents. A sport better may have a large amount of money on the line and being able to quickly search for a player's on-base percentage, or batting average may be the difference in them winning or losing money, based on the decision they make. Overall, many individuals will benefit from this visual tool and make better-informed decisions.   "
   ]
  },
  {
   "cell_type": "markdown",
   "id": "9d6c239e",
   "metadata": {},
   "source": [
    "## Step 1: Load in Data using Selenium"
   ]
  },
  {
   "cell_type": "markdown",
   "id": "d04c0320",
   "metadata": {},
   "source": [
    "### Detailed Steps:\n",
    "\n",
    "Firstly, we need to import the necessary packages to extract the data from the BaseballSavant site.  For this we import the selenium package and its other attachments.  With these loaded in, I call selenium and then use the driver to open up the desired webpage which was specified with the URL.  After webdriver opens the webpage, we then specify which table we would like to extract data from and then have webdriver extract the desired information by specifying the rows Xpath.  After extracting this information, it is then stored in a list called data and we then close the webpage.\n",
    "\n",
    "It is important that we have a program which can webscrape BaseballSavant's content rather than just download a CSV file because a player's metrics change with each plate appearance they make.  Since baseball metrics are calculated on the aggregate, BaseballSavant updates their leaderboards daily, meaning we cannot download static data which does not represent accurate performances."
   ]
  },
  {
   "cell_type": "code",
   "execution_count": 10,
   "id": "fddd6374",
   "metadata": {},
   "outputs": [],
   "source": [
    "from selenium import webdriver\n",
    "from selenium.webdriver.common.by import By\n",
    "from selenium.webdriver.chrome.service import Service\n",
    "from selenium.webdriver.support.ui import WebDriverWait\n",
    "from selenium.webdriver.support import expected_conditions as EC\n",
    "serv_obj = Service(\"C:\\\\Users\\\\rhlof\\\\Downloads\\\\chromedriver_win32\\\\chromedriver.exe\")\n",
    "driver = webdriver.Chrome(service=serv_obj)\n",
    "url = 'https://baseballsavant.mlb.com/leaderboard/custom?year=2023&type=batter&filter=&sort=4&sortDir=desc&min=1&selections=b_k_percent,b_bb_percent,xba,xslg,xwoba,xobp,xiso,xwobacon,xbacon,exit_velocity_avg,hard_hit_percent,avg_best_speed,&chart=false&x=xba&y=xba&r=no&chartType=beeswarm'\n",
    "driver.get(url)\n",
    "wait = WebDriverWait(driver, 10)\n",
    "xpath = '/html/body/div[2]/div/div/table'\n",
    "table = wait.until(EC.presence_of_element_located((By.XPATH, xpath)))\n",
    "rows = table.find_elements(By.XPATH, \"//tbody/tr\")\n",
    "data = []\n",
    "for row in rows:\n",
    "    cells = row.find_elements(By.XPATH, \"td\")\n",
    "    data.append([cell.text for cell in cells])\n",
    "driver.close()"
   ]
  },
  {
   "cell_type": "markdown",
   "id": "8ef4ec58",
   "metadata": {},
   "source": [
    "## Step 2: Create Pandas DataFrame"
   ]
  },
  {
   "cell_type": "markdown",
   "id": "a039383d",
   "metadata": {},
   "source": [
    "### Detailed Steps:\n",
    "\n",
    "After loading the data into a list, we need to put it into a Pandas dataframe.  I specify the names of the desired columns and then load in the data in the list to rows in the dataframe.  After this, I have to do some cleaning of the data.  Firstly, the initial list 'data' contains some information about the games which are being played on the given day, which is not useful the the project.  I do not include this data by filtering out the list 'data' to include on the necessary statistics.  Also, since I am using another dataset to add more details in the visualization, I need to make sure the player names are identical in both the datasets.  Although I have removed all non-player instances in the data list, the player names are not in correct order, so I have to change it from last name, first name format into the desired format, which is first name then last name.  Also, there are some players in the BaseballSavant dataset which include name suffixes which aren't included in the MLBIDS dataset.  These instances are when players include titles such as 'Jr.' or 'III' which are only recognized by one of the datasets.  The names of these players are stored in the list 'bad_names'.  After we take account of these, we then create a new list called 'names' with the proper names, and then replace the initial 'Player' column with these correct values in a column called 'Names'.  We then drop the unecessary columns, 'Player' and 'index'.  After this, we then make sure the columns are in the desired order and are numeric types.  Then, we drop all rows which may have null values."
   ]
  },
  {
   "cell_type": "code",
   "execution_count": 12,
   "id": "1be14755",
   "metadata": {},
   "outputs": [],
   "source": [
    "import pandas as pd\n",
    "data1 = [x for x in data if x[0] != '' ]\n",
    "col_names = ['Rank','Player', 'Year', 'K %', 'BB %','xBA', 'xSLG', 'xwOBA', 'xOBP', 'xISO', 'xwOBACON', 'xBACON', 'Exit Velo', 'Hard Hit %', 'Max Exit Velo']\n",
    "df = pd.DataFrame(data1, columns = col_names).drop(columns = ['Rank', 'Year'])\n",
    "names = []\n",
    "for x in range(len(df['Player'])):\n",
    "    names.append(df['Player'][x].split(',')[1].strip() + ' ' + df['Player'][x].split(',')[0])\n",
    "bad_names = ['Brent Rooker Jr.', 'Cedric Mullins II', 'George Springer III', 'Joey Wiemer Jr.', 'Luke Voit III', \n",
    "         'MJ Melendez Jr.', 'Nelson Cruz Jr.', 'TJ Friedl Jr.', 'Trey Mancini III']\n",
    "for x in range(len(names)):\n",
    "    if names[x] in bad_names:\n",
    "        split = names[x].split(' ')\n",
    "        names[x] = split[0] + ' ' + split[1]    \n",
    "df['Name'] = names\n",
    "df = df.sort_values(['Name'], ascending = [True]).reset_index()\n",
    "df = df.drop(columns = ['Player', 'index']).reset_index(drop=True)\n",
    "df[['K %', 'BB %','xBA', 'xSLG', 'xwOBA', 'xOBP', 'xISO', 'xwOBACON', 'xBACON', 'Exit Velo', 'Hard Hit %', 'Max Exit Velo']] = df[['K %', 'BB %','xBA', 'xSLG', 'xwOBA', 'xOBP', 'xISO', 'xwOBACON', 'xBACON', 'Exit Velo', 'Hard Hit %', 'Max Exit Velo']].apply(pd.to_numeric) \n",
    "df = df.loc[:,['Name','xBA', 'xSLG', 'xwOBA', 'xOBP', 'xISO', 'xwOBACON', 'xBACON','Exit Velo', 'Max Exit Velo', 'Hard Hit %','K %', 'BB %']]\n",
    "for x in df.columns:\n",
    "    df = df[df[x].notna()]"
   ]
  },
  {
   "cell_type": "code",
   "execution_count": 13,
   "id": "d4d08557",
   "metadata": {},
   "outputs": [
    {
     "data": {
      "text/html": [
       "<div>\n",
       "<style scoped>\n",
       "    .dataframe tbody tr th:only-of-type {\n",
       "        vertical-align: middle;\n",
       "    }\n",
       "\n",
       "    .dataframe tbody tr th {\n",
       "        vertical-align: top;\n",
       "    }\n",
       "\n",
       "    .dataframe thead th {\n",
       "        text-align: right;\n",
       "    }\n",
       "</style>\n",
       "<table border=\"1\" class=\"dataframe\">\n",
       "  <thead>\n",
       "    <tr style=\"text-align: right;\">\n",
       "      <th></th>\n",
       "      <th>Name</th>\n",
       "      <th>xBA</th>\n",
       "      <th>xSLG</th>\n",
       "      <th>xwOBA</th>\n",
       "      <th>xOBP</th>\n",
       "      <th>xISO</th>\n",
       "      <th>xwOBACON</th>\n",
       "      <th>xBACON</th>\n",
       "      <th>Exit Velo</th>\n",
       "      <th>Max Exit Velo</th>\n",
       "      <th>Hard Hit %</th>\n",
       "      <th>K %</th>\n",
       "      <th>BB %</th>\n",
       "    </tr>\n",
       "  </thead>\n",
       "  <tbody>\n",
       "    <tr>\n",
       "      <th>0</th>\n",
       "      <td>AJ Pollock</td>\n",
       "      <td>0.209</td>\n",
       "      <td>0.386</td>\n",
       "      <td>0.284</td>\n",
       "      <td>0.264</td>\n",
       "      <td>0.177</td>\n",
       "      <td>0.337</td>\n",
       "      <td>0.279</td>\n",
       "      <td>89.5</td>\n",
       "      <td>99.7</td>\n",
       "      <td>42.6</td>\n",
       "      <td>23.0</td>\n",
       "      <td>6.9</td>\n",
       "    </tr>\n",
       "    <tr>\n",
       "      <th>1</th>\n",
       "      <td>Aaron Hicks</td>\n",
       "      <td>0.159</td>\n",
       "      <td>0.221</td>\n",
       "      <td>0.215</td>\n",
       "      <td>0.237</td>\n",
       "      <td>0.062</td>\n",
       "      <td>0.234</td>\n",
       "      <td>0.225</td>\n",
       "      <td>86.9</td>\n",
       "      <td>95.8</td>\n",
       "      <td>22.4</td>\n",
       "      <td>26.3</td>\n",
       "      <td>9.2</td>\n",
       "    </tr>\n",
       "    <tr>\n",
       "      <th>2</th>\n",
       "      <td>Aaron Judge</td>\n",
       "      <td>0.306</td>\n",
       "      <td>0.757</td>\n",
       "      <td>0.472</td>\n",
       "      <td>0.409</td>\n",
       "      <td>0.452</td>\n",
       "      <td>0.681</td>\n",
       "      <td>0.472</td>\n",
       "      <td>96.4</td>\n",
       "      <td>107.3</td>\n",
       "      <td>61.1</td>\n",
       "      <td>30.3</td>\n",
       "      <td>15.2</td>\n",
       "    </tr>\n",
       "    <tr>\n",
       "      <th>3</th>\n",
       "      <td>Adam Duvall</td>\n",
       "      <td>0.366</td>\n",
       "      <td>0.842</td>\n",
       "      <td>0.526</td>\n",
       "      <td>0.434</td>\n",
       "      <td>0.477</td>\n",
       "      <td>0.595</td>\n",
       "      <td>0.431</td>\n",
       "      <td>88.9</td>\n",
       "      <td>101.8</td>\n",
       "      <td>46.4</td>\n",
       "      <td>13.5</td>\n",
       "      <td>8.1</td>\n",
       "    </tr>\n",
       "    <tr>\n",
       "      <th>4</th>\n",
       "      <td>Adam Engel</td>\n",
       "      <td>0.092</td>\n",
       "      <td>0.107</td>\n",
       "      <td>0.085</td>\n",
       "      <td>0.092</td>\n",
       "      <td>0.015</td>\n",
       "      <td>0.128</td>\n",
       "      <td>0.139</td>\n",
       "      <td>81.1</td>\n",
       "      <td>83.4</td>\n",
       "      <td>0.0</td>\n",
       "      <td>33.3</td>\n",
       "      <td>0.0</td>\n",
       "    </tr>\n",
       "    <tr>\n",
       "      <th>...</th>\n",
       "      <td>...</td>\n",
       "      <td>...</td>\n",
       "      <td>...</td>\n",
       "      <td>...</td>\n",
       "      <td>...</td>\n",
       "      <td>...</td>\n",
       "      <td>...</td>\n",
       "      <td>...</td>\n",
       "      <td>...</td>\n",
       "      <td>...</td>\n",
       "      <td>...</td>\n",
       "      <td>...</td>\n",
       "      <td>...</td>\n",
       "    </tr>\n",
       "    <tr>\n",
       "      <th>506</th>\n",
       "      <td>Yu Chang</td>\n",
       "      <td>0.251</td>\n",
       "      <td>0.428</td>\n",
       "      <td>0.309</td>\n",
       "      <td>0.284</td>\n",
       "      <td>0.177</td>\n",
       "      <td>0.403</td>\n",
       "      <td>0.348</td>\n",
       "      <td>89.5</td>\n",
       "      <td>100.7</td>\n",
       "      <td>33.3</td>\n",
       "      <td>25.5</td>\n",
       "      <td>2.1</td>\n",
       "    </tr>\n",
       "    <tr>\n",
       "      <th>507</th>\n",
       "      <td>Yuli Gurriel</td>\n",
       "      <td>0.223</td>\n",
       "      <td>0.291</td>\n",
       "      <td>0.256</td>\n",
       "      <td>0.275</td>\n",
       "      <td>0.069</td>\n",
       "      <td>0.252</td>\n",
       "      <td>0.251</td>\n",
       "      <td>86.2</td>\n",
       "      <td>96.5</td>\n",
       "      <td>31.4</td>\n",
       "      <td>10.6</td>\n",
       "      <td>5.8</td>\n",
       "    </tr>\n",
       "    <tr>\n",
       "      <th>508</th>\n",
       "      <td>Zach McKinstry</td>\n",
       "      <td>0.304</td>\n",
       "      <td>0.502</td>\n",
       "      <td>0.391</td>\n",
       "      <td>0.398</td>\n",
       "      <td>0.198</td>\n",
       "      <td>0.426</td>\n",
       "      <td>0.376</td>\n",
       "      <td>88.7</td>\n",
       "      <td>100.2</td>\n",
       "      <td>39.5</td>\n",
       "      <td>17.1</td>\n",
       "      <td>12.8</td>\n",
       "    </tr>\n",
       "    <tr>\n",
       "      <th>509</th>\n",
       "      <td>Zach Neto</td>\n",
       "      <td>0.248</td>\n",
       "      <td>0.402</td>\n",
       "      <td>0.319</td>\n",
       "      <td>0.318</td>\n",
       "      <td>0.154</td>\n",
       "      <td>0.349</td>\n",
       "      <td>0.312</td>\n",
       "      <td>89.9</td>\n",
       "      <td>99.4</td>\n",
       "      <td>39.8</td>\n",
       "      <td>18.6</td>\n",
       "      <td>3.9</td>\n",
       "    </tr>\n",
       "    <tr>\n",
       "      <th>510</th>\n",
       "      <td>Zack Short</td>\n",
       "      <td>0.204</td>\n",
       "      <td>0.412</td>\n",
       "      <td>0.280</td>\n",
       "      <td>0.241</td>\n",
       "      <td>0.207</td>\n",
       "      <td>0.456</td>\n",
       "      <td>0.358</td>\n",
       "      <td>83.3</td>\n",
       "      <td>97.5</td>\n",
       "      <td>33.3</td>\n",
       "      <td>40.9</td>\n",
       "      <td>4.5</td>\n",
       "    </tr>\n",
       "  </tbody>\n",
       "</table>\n",
       "<p>507 rows × 13 columns</p>\n",
       "</div>"
      ],
      "text/plain": [
       "               Name    xBA   xSLG  xwOBA   xOBP   xISO  xwOBACON  xBACON  \\\n",
       "0        AJ Pollock  0.209  0.386  0.284  0.264  0.177     0.337   0.279   \n",
       "1       Aaron Hicks  0.159  0.221  0.215  0.237  0.062     0.234   0.225   \n",
       "2       Aaron Judge  0.306  0.757  0.472  0.409  0.452     0.681   0.472   \n",
       "3       Adam Duvall  0.366  0.842  0.526  0.434  0.477     0.595   0.431   \n",
       "4        Adam Engel  0.092  0.107  0.085  0.092  0.015     0.128   0.139   \n",
       "..              ...    ...    ...    ...    ...    ...       ...     ...   \n",
       "506        Yu Chang  0.251  0.428  0.309  0.284  0.177     0.403   0.348   \n",
       "507    Yuli Gurriel  0.223  0.291  0.256  0.275  0.069     0.252   0.251   \n",
       "508  Zach McKinstry  0.304  0.502  0.391  0.398  0.198     0.426   0.376   \n",
       "509       Zach Neto  0.248  0.402  0.319  0.318  0.154     0.349   0.312   \n",
       "510      Zack Short  0.204  0.412  0.280  0.241  0.207     0.456   0.358   \n",
       "\n",
       "     Exit Velo  Max Exit Velo  Hard Hit %   K %  BB %  \n",
       "0         89.5           99.7        42.6  23.0   6.9  \n",
       "1         86.9           95.8        22.4  26.3   9.2  \n",
       "2         96.4          107.3        61.1  30.3  15.2  \n",
       "3         88.9          101.8        46.4  13.5   8.1  \n",
       "4         81.1           83.4         0.0  33.3   0.0  \n",
       "..         ...            ...         ...   ...   ...  \n",
       "506       89.5          100.7        33.3  25.5   2.1  \n",
       "507       86.2           96.5        31.4  10.6   5.8  \n",
       "508       88.7          100.2        39.5  17.1  12.8  \n",
       "509       89.9           99.4        39.8  18.6   3.9  \n",
       "510       83.3           97.5        33.3  40.9   4.5  \n",
       "\n",
       "[507 rows x 13 columns]"
      ]
     },
     "execution_count": 13,
     "metadata": {},
     "output_type": "execute_result"
    }
   ],
   "source": [
    "df.head()"
   ]
  },
  {
   "cell_type": "markdown",
   "id": "84f00bfc",
   "metadata": {},
   "source": [
    "## Step 3: Send Data to an AWS Bucket for URL Retreival"
   ]
  },
  {
   "cell_type": "markdown",
   "id": "f72ea7c8",
   "metadata": {},
   "source": [
    "### Detailed Steps:\n",
    "\n",
    "Since it takes some time for our data to be scraped in from BaseballSavant, we store our dataframe into a csv file and then place that in an AWS bucket.  Being stored under the name 'final_proj_2023.csv', we can then retreive our file using a simple URL instead of having to load in our data using Selenium whenever we want to use the dataframe.  Although this project write up exists in just one Jupyter Notebook file, we originally had it in two files, one where the data was webscraped, uploaded, and stored in an AWS Bucket, and one where we would create our visualization.  With this, we could upload our data in the visualization file by using the bucket item URL.\n",
    "\n",
    "Since player performance metrics change daily since games are played each day, it is important that we are able to accurately update our data.  By webscapring BaseballSavant, converting the data into a dataframe, and then storing it in an AWS bucket with an accessible link, we are able to simply run a file and update the data whenever needed."
   ]
  },
  {
   "cell_type": "code",
   "execution_count": 14,
   "id": "7bbd2abc",
   "metadata": {},
   "outputs": [
    {
     "data": {
      "text/plain": [
       "{'ResponseMetadata': {'RequestId': '3PFFEMT0JCTDVH9J',\n",
       "  'HostId': 'RH9XdveRipodYn95g5iUGQ/zuUkjcpFFS0WYJgY7mLsqn6CYXaBcgXUk8FevwVJV2oh3gJbGnKM=',\n",
       "  'HTTPStatusCode': 200,\n",
       "  'HTTPHeaders': {'x-amz-id-2': 'RH9XdveRipodYn95g5iUGQ/zuUkjcpFFS0WYJgY7mLsqn6CYXaBcgXUk8FevwVJV2oh3gJbGnKM=',\n",
       "   'x-amz-request-id': '3PFFEMT0JCTDVH9J',\n",
       "   'date': 'Mon, 22 May 2023 17:28:37 GMT',\n",
       "   'x-amz-server-side-encryption': 'AES256',\n",
       "   'etag': '\"873e6517538d56c6e33aaafa03d6975c\"',\n",
       "   'server': 'AmazonS3',\n",
       "   'content-length': '0'},\n",
       "  'RetryAttempts': 0},\n",
       " 'ETag': '\"873e6517538d56c6e33aaafa03d6975c\"',\n",
       " 'ServerSideEncryption': 'AES256'}"
      ]
     },
     "execution_count": 14,
     "metadata": {},
     "output_type": "execute_result"
    }
   ],
   "source": [
    "import os\n",
    "import boto3\n",
    "\n",
    "aws_access_key_id = os.environ['aws_access_key_id']\n",
    "aws_secret_access_key = os.environ['aws_secret_access_key1']\n",
    "s3 = boto3.client('s3', region_name='us-east-1', \n",
    "                        # Set up AWS credentials \n",
    "                        aws_access_key_id=aws_access_key_id, \n",
    "                         aws_secret_access_key=aws_secret_access_key)\n",
    "from io import StringIO\n",
    "resource = boto3.resource(\n",
    "    's3',\n",
    "    aws_access_key_id = aws_access_key_id,\n",
    "    aws_secret_access_key = aws_secret_access_key\n",
    ")\n",
    "from io import StringIO\n",
    "import csv\n",
    "bucket = 'bigdata.assignments'\n",
    "file_name = \"final_proj_2023.csv\"\n",
    "csv_buffer = StringIO()\n",
    "df.to_csv(csv_buffer, index = False, encoding='utf-8-sig')\n",
    "resource.Object(bucket, file_name).put(Body=csv_buffer.getvalue())"
   ]
  },
  {
   "cell_type": "markdown",
   "id": "0f7a8daa",
   "metadata": {},
   "source": [
    "## Load in Necessary Packages"
   ]
  },
  {
   "cell_type": "markdown",
   "id": "7dd2af3d",
   "metadata": {},
   "source": [
    "### Detailed Steps:\n",
    "\n",
    "For our visualization we will be creating a metric radar via the mplsoccer package.  To create this, we need to install the mplsoccer package, as well as matplotlib. Additionally, since the user of the graph will be able to select their desired players from a dropdown menu, we need to import the ipywidgets package.  After loading in our packages, we are also uploading some specific fonts to use in our visualization."
   ]
  },
  {
   "cell_type": "code",
   "execution_count": 15,
   "id": "e237d267",
   "metadata": {},
   "outputs": [],
   "source": [
    "import pandas as pd\n",
    "from mplsoccer import Radar, FontManager, grid\n",
    "import matplotlib.pyplot as plt\n",
    "from ipywidgets import widgets, interactive"
   ]
  },
  {
   "cell_type": "code",
   "execution_count": 16,
   "id": "4dfc0f65",
   "metadata": {},
   "outputs": [],
   "source": [
    "URL1 = ('https://raw.githubusercontent.com/googlefonts/SourceSerifProGFVersion/main/fonts/'\n",
    "        'SourceSerifPro-Regular.ttf')\n",
    "serif_regular = FontManager(URL1)\n",
    "URL2 = ('https://raw.githubusercontent.com/googlefonts/SourceSerifProGFVersion/main/fonts/'\n",
    "        'SourceSerifPro-ExtraLight.ttf')\n",
    "serif_extra_light = FontManager(URL2)\n",
    "URL3 = ('https://raw.githubusercontent.com/google/fonts/main/ofl/rubikmonoone/'\n",
    "        'RubikMonoOne-Regular.ttf')\n",
    "rubik_regular = FontManager(URL3)\n",
    "URL4 = 'https://raw.githubusercontent.com/googlefonts/roboto/main/src/hinted/Roboto-Thin.ttf'\n",
    "robotto_thin = FontManager(URL4)\n",
    "URL5 = ('https://raw.githubusercontent.com/google/fonts/main/apache/robotoslab/'\n",
    "        'RobotoSlab%5Bwght%5D.ttf')\n",
    "robotto_bold = FontManager(URL5)"
   ]
  },
  {
   "cell_type": "markdown",
   "id": "21152045",
   "metadata": {},
   "source": [
    "## Create Function for Visualization"
   ]
  },
  {
   "cell_type": "markdown",
   "id": "1802d099",
   "metadata": {},
   "source": [
    "### Specific Details:\n",
    "\n",
    "Now create our function to make our visualization.  For our inputs, we take two player names which we will use as our comparisons.  After taking these inputs, our function retreives these names from our BaseballSavant dataset.  Additionally, we are loading in our datasets: the BaseballSavant data as well as the MLB IDs dataset provided by Razzball, which we use so we can provide additional information about the player in our visualization, specifically their team and position.  The Razzball dataset is stored in an AWS bucket and is given a public URL, which we will use to access the data in our radar.  In order to make sure the names in the BaseballSavant and MLB IDs sets match, we are also doing some final cleaning.  As well as this, we make sure that if there are any N/A values in our BaseballSavant dataset, we replace them with the string 'missing'. With our names, we then extract their statistics and store them in a list called values.  We also make sure that we only put in the values which are present in the player's row.  After we have their stats, we then take then calculate the values that are in the 5th and 95th percentile for each metric we are looking at.  These values will be used as the ranges for each metric we observe.  We also create a list called params which is the names of all the metrics that will be plotted on the visualization.\n",
    "\n",
    "After this we create a function called get_teampos, which retreives the player's team and position from the MLB IDs dataset.  However, there are some names in the dataset that still do not match those in the BaseballSavant set, so we have to specify those player names in the function creation to make sure they have their proper teams and positions.  After creating our function, we then call it on the player name and store their team and position in to variables.  With this, we are ready to begin creating the visualization.\n",
    "\n",
    "Using the Radar function from mplsoccer, we load in the player values and the range values.  Additionally, we make sure our visualization knows that for K %, it is better to have a lower value than high value.  We also specify that we want 10 rings in our radar.  With our radar_inner function, we specify that we want our rings to be light grey.  With the rings_output function, we specify that we want the color of our first player's radar to be red and our second player to be blue, as well as wanting our visualization to be a comparison radar.  After this, we specify the font we want for our labels.\n",
    "\n",
    "Next, we add the titles for our visualization.  We set our main title as \"Statcast Comparison Radar for the 2023 MLB Season\".  We also set our endnote title, which credits the data as coming from BaseballSavant, lists who created the visualization, as well as adknowledging that the visualization is inspired by similar radars created by Statsbomb. Then, we but titles that display the player's name, team, and position.  The font color for these player specific titles are specified to be the same color as their radar chart. Lastly, we set the background color of the visualization"
   ]
  },
  {
   "cell_type": "code",
   "execution_count": 25,
   "id": "5fd9aa42",
   "metadata": {},
   "outputs": [],
   "source": [
    "def comp(player_1, player_2):\n",
    "        df = pd.read_csv('https://s3.amazonaws.com/bigdata.assignments/final_proj_2023.csv')\n",
    "        df.fillna('missing', inplace = True)\n",
    "        mlbids = pd.read_csv('https://s3.amazonaws.com/bigdata.assignments/mlb_ids+-+Sheet1.csv')\n",
    "        for x in range(len(mlbids)):\n",
    "            mlbids['Name'][x] = mlbids['Name'][x].replace(\"’\", \"'\")\n",
    "        for x in range(len(df['Name'])):\n",
    "            if player_1 in df['Name'][x]:\n",
    "                player1 = df.loc[x]\n",
    "        player1_name = player1[0]\n",
    "        player1_vals = [player1[x] for x in range(len(player1)) if player1[x] != 'missing']\n",
    "        for x in range(len(df['Name'])):\n",
    "            if player_2 in df['Name'][x]:\n",
    "                player2 = df.loc[x]\n",
    "        player2_name = player2[0]\n",
    "        player2_vals = [player2[x] for x in range(len(player2)) if player2[x] != 'missing']\n",
    "        player1_vals = player1_vals[1:]\n",
    "        player2_vals = player2_vals[1:]\n",
    "        high = [round(x,3) for x in df.quantile(0.95)]\n",
    "        low = [round(x,3) for x in df.quantile(0.05)]\n",
    "        params = [x for x in df.columns[1:]]\n",
    "        def get_teampos(player_name):\n",
    "            if player_name == 'Will Smith':\n",
    "                team = mlbids[mlbids['Name'] == player_name].iloc[1,5]\n",
    "                position = mlbids[mlbids['Name'] == player_name].iloc[1,6]\n",
    "            elif player_name == 'Franchy Cordero':\n",
    "                team = 'NYY'\n",
    "                position = '1B/OF'\n",
    "            elif player_name == 'Ji Man Choi':\n",
    "                team = 'PIT'\n",
    "                position = '1B'\n",
    "            elif player_name == 'Yuli Gurriel':\n",
    "                team = 'MIA'\n",
    "                position = '1B'\n",
    "            else:\n",
    "                team = mlbids[mlbids['Name'] == player_name].iloc[0,5]\n",
    "                position = mlbids[mlbids['Name'] == player_name].iloc[0,6]\n",
    "            return(team, position)\n",
    "        info1 = get_teampos(player1_name)\n",
    "        team1 = info1[0]\n",
    "        pos1 = info1[1]\n",
    "        info2 = get_teampos(player2_name)\n",
    "        team2 = info2[0]\n",
    "        pos2 = info2[1]\n",
    "        radar = Radar(params, low, high, lower_is_better = ['K %'],round_int=[False]*len(params),\n",
    "              num_rings=10, ring_width=1, center_circle_radius=1)\n",
    "        fig, axs = grid(figheight=14, grid_height=0.915, title_height=0.06, endnote_height=0.025,\n",
    "                title_space=0, endnote_space=0, grid_key='radar', axis=False)\n",
    "        radar.setup_axis(ax=axs['radar'], facecolor = 'none')\n",
    "        rings_inner = radar.draw_circles(ax=axs['radar'], facecolor='gainsboro', edgecolor='lightgrey')\n",
    "        radar_output = radar.draw_radar_compare(player1_vals, player2_vals, ax=axs['radar'],\n",
    "                                        kwargs_radar={'facecolor': 'lightcoral', 'alpha': 0.6, 'edgecolor': 'red'},\n",
    "                                        kwargs_compare={'facecolor': 'cornflowerblue', 'alpha': 0.6, 'edgecolor' : 'navy'})\n",
    "        radar_poly, radar_poly2, vertices1, vertices2 = radar_output\n",
    "        range_labels = radar.draw_range_labels(ax=axs['radar'], fontsize=15,\n",
    "                                       fontproperties=robotto_thin.prop)\n",
    "        param_labels = radar.draw_param_labels(ax=axs['radar'], fontsize=15,\n",
    "                                       fontproperties=robotto_bold.prop)\n",
    "        fig.text(\n",
    "                0.5, 0.97, \"Statcast Comparison Radar for the 2023 MLB Season\", size=35,\n",
    "                ha=\"center\", fontproperties=robotto_bold.prop, color=\"#000000\"\n",
    "            )\n",
    "        endnote_text = axs['endnote'].text(0.99, 0.5, 'Inspired By: StatsBomb\\nData provided by BaseballSavant and Razzball\\nBy Richard Loftis', fontsize=15,\n",
    "                                   fontproperties=robotto_thin.prop, ha='right', va='center')\n",
    "        title1_text = axs['title'].text(0.01, -0.25, player1_name, fontsize=25, color='crimson',\n",
    "                                fontproperties=robotto_bold.prop, ha='left', va='center')\n",
    "        title2_text = axs['title'].text(0.01, -.6, team1 + ', ' + pos1, fontsize=20,\n",
    "                                fontproperties=robotto_thin.prop,\n",
    "                                ha='left', va='center', color='crimson')\n",
    "        title3_text = axs['title'].text(0.99, -0.25, player2_name, fontsize=25,\n",
    "                                fontproperties=robotto_bold.prop,\n",
    "                                ha='right', va='center', color='blue')\n",
    "        title4_text = axs['title'].text(0.99, -.6, team2 + ', ' + pos2, fontsize=20,\n",
    "                                fontproperties=robotto_thin.prop,\n",
    "                                ha='right', va='center', color='blue')"
   ]
  },
  {
   "cell_type": "markdown",
   "id": "e5d622f7",
   "metadata": {},
   "source": [
    "## Call Function to Create Visualization"
   ]
  },
  {
   "cell_type": "markdown",
   "id": "b94b75e1",
   "metadata": {},
   "source": [
    "### Detailed Steps:\n",
    "\n",
    "After creating our function, we set our default players to be compared as Aaron Judge and Paul Goldschmidt, both the reigning MVPs from their respect leagues.  We set the player1 and player2 variables as widget items, allowing for the user to select not only the specified players for the comparison chart, but use a drop down list to compare any two players in the entire dataset.  We do this by calling the interactive function on our created function 'comp' with the arguments for that function being the two widget items we just created.  After executing that cell, our radar chart is created."
   ]
  },
  {
   "cell_type": "code",
   "execution_count": 34,
   "id": "c7973b2e",
   "metadata": {},
   "outputs": [],
   "source": [
    "player1 = widgets.Dropdown(options = ['Aaron Judge'] + list(df['Name'].unique()), value = 'Aaron Judge', description = 'Player:')\n",
    "player2 = widgets.Dropdown(options = ['Paul Goldschmidt'] + list(df['Name'].unique()), value = 'Paul Goldschmidt', description = 'Player:')"
   ]
  },
  {
   "cell_type": "code",
   "execution_count": 35,
   "id": "f56585fb",
   "metadata": {},
   "outputs": [
    {
     "data": {
      "application/vnd.jupyter.widget-view+json": {
       "model_id": "c890005255004bf3bff211bdb5051d8b",
       "version_major": 2,
       "version_minor": 0
      },
      "text/plain": [
       "interactive(children=(Dropdown(description='Player:', options=('Aaron Judge', 'AJ Pollock', 'Aaron Hicks', 'Aa…"
      ]
     },
     "metadata": {},
     "output_type": "display_data"
    }
   ],
   "source": [
    "interactive(comp, player_1=player1, player_2=player2)"
   ]
  },
  {
   "cell_type": "markdown",
   "id": "913945a7",
   "metadata": {},
   "source": [
    "## Radar Interpretation:\n",
    "\n",
    "With our visualization, we a plotting hitting performance metrics onto a radar chart.  Put simply, the larger and more circular a player's radar chart looks, the better they are performing in our selected metrics.  With this comparison feature, a user can tell who is having the better season as a hitter, which answers our inital business question.  With this information, a general manager can compare two players who they may be interested in acquiring and determine who is better.  Coaches and those who set the lineups can also use this visualization to compare different batters they already have in their teams and decide who should play over another player.  Additionally, sports bettors can use this information and visualization to help inform their bets.  Also, since many of these metrics may not be common knowledge for even the average baseball fan, we have attached a glossary at the bottom of this file to help give specific interpretations and definitions for each metric mentioned.\n",
    "\n",
    "For example, as of 4/16/23, the New York Yankees are dealing with a lot of injured players on their roster, specifically with their outfield, where two everyday starters in Giancarlo Stanton and Harrison Bader are unavailable to play.  With these holes in the current roster, their manager would have to choose players to step into their place and take over the starting position.  Two candidates for a starting spot are outfielders Franchy Cordero and Aaron Hicks.  If the manager of the Yankees, Aaron Boone, was having a difficult time choosing who to start between Cordero and Hicks, our visualization tool would be very helpful in projecting who would perform best.  Boone could choose to compare Hicks' and Cordero's metrics with our tool and see that Cordero is outperforming Hicks in nearly every metric and would likley be a more effective replacement for Stanton or Bader, as can be seen below:"
   ]
  },
  {
   "cell_type": "code",
   "execution_count": 32,
   "id": "0cd84fd7",
   "metadata": {},
   "outputs": [],
   "source": [
    "player1 = widgets.Dropdown(options = ['Aaron Hicks'] + list(df['Name'].unique()), value = 'Aaron Hicks', description = 'Player:')\n",
    "player2 = widgets.Dropdown(options = ['Franchy Cordero'] + list(df['Name'].unique()), value = 'Franchy Cordero', description = 'Player:')"
   ]
  },
  {
   "cell_type": "code",
   "execution_count": 33,
   "id": "538c461e",
   "metadata": {},
   "outputs": [
    {
     "data": {
      "application/vnd.jupyter.widget-view+json": {
       "model_id": "3180c721007a4b94b0709d44399b8f2a",
       "version_major": 2,
       "version_minor": 0
      },
      "text/plain": [
       "interactive(children=(Dropdown(description='Player:', options=('Aaron Hicks', 'AJ Pollock', 'Aaron Hicks', 'Aa…"
      ]
     },
     "metadata": {},
     "output_type": "display_data"
    }
   ],
   "source": [
    "interactive(comp, player_1=player1, player_2=player2)"
   ]
  },
  {
   "cell_type": "markdown",
   "id": "020a4946",
   "metadata": {},
   "source": [
    "## Glossary:"
   ]
  },
  {
   "cell_type": "markdown",
   "id": "303e086f",
   "metadata": {},
   "source": [
    "### xBA:\n",
    "\n",
    "Expected Batting Average (xBA): xBA measures the likelihood that a batted ball will become a hit. Each batted ball is assigned an xBA based on how often comparable balls -- in terms of exit velocity, launch angle and, on certain types of batted balls, Sprint Speed -- have become hits since Statcast was implemented Major League wide in 2015. By comparing expected numbers to real-world outcomes over a period of time, it can be possible to identify which hitters (or pitchers) are over- or under-performing their demonstrated skill."
   ]
  },
  {
   "cell_type": "markdown",
   "id": "452bd18f",
   "metadata": {},
   "source": [
    "### xSLG:\n",
    "\n",
    "Expected Slugging Percentage (xSLG): xSLG is formulated using exit velocity, launch angle and, on certain types of batted balls, Sprint Speed.  In the same way that each batted ball is assigned an expected batting average, every batted ball is given a single, double, triple and home run probability based on the results of comparable batted balls since Statcast was implemented Major League wide in 2015.  All hit types are valued in the same fashion for Expected Slugging Percentage as they are in the formula for standard slugging percentage, with doubles being worth twice as much, triples being worth three times as much and homers being worth four times as much as singles. The single, double, triple and home run probabilities for an individual batted ball are plugged into the formula for slugging percentage -- (1B + 2Bx2 + 3Bx3 + HRx4)/AB) -- to get a player's Expected Slugging Percentage on said batted ball."
   ]
  },
  {
   "cell_type": "markdown",
   "id": "906885cb",
   "metadata": {},
   "source": [
    "### xwOBA:\n",
    "\n",
    "Expected Weighted On-base Average (xwOBA): xwOBA is formulated using exit velocity, launch angle and, on certain types of batted balls, Sprint Speed. All hit types are valued in the same fashion for xwOBA as they are in the formula for standard wOBA: (unintentional BB factor x unintentional BB + HBP factor x HBP + 1B factor x 1B + 2B factor x 2B + 3B factor x 3B + HR factor x HR)/(AB + unintentional BB + SF + HBP), where \"factor\" indicates the adjusted run expectancy of a batting event in the context of the season as a whole. Unlike xOBP, xwOBA accounts for how a player reached base -- instead of simply considering whether a player reached base. The value for each method of reaching base is determined by how much that event is worth in relation to projected runs scored (example: a double is worth more than a single)."
   ]
  },
  {
   "cell_type": "markdown",
   "id": "2dca54ce",
   "metadata": {},
   "source": [
    "### xOBP\n",
    "\n",
    "Expected On-base Percentage (xOBP): xOBP is formulated using exit velocity, launch angle and, on certain types of batted balls, Sprint Speed.  This measure refers to how frequently a batter is expected to reache base on a per plate appearance based on the results of their batted balls and at bats.  Unlike xwOBA, xOBP does not take into account the values of reaching different bases."
   ]
  },
  {
   "cell_type": "markdown",
   "id": "2ec5e46b",
   "metadata": {},
   "source": [
    "### xISO:\n",
    "\n",
    "Expected Isolated Power (xISO): xISO is formulated using exit velocity, launch angle and, on certain types of batted balls, Sprint Speed.  xISO measures the raw power of a hitter by taking only the player's batted balls' probabilities of being extra-base hits -- and the type of extra-base hit -- into account.  "
   ]
  },
  {
   "cell_type": "markdown",
   "id": "c5f5d1c1",
   "metadata": {},
   "source": [
    "### xwOBACON:\n",
    "\n",
    "Expected Weighted On-base Average on Contact (xwOBACON): xwOBACON is formulated using exit velocity, launch angle and, on certain types of batted balls, Sprint Speed. xwOBACON is a very similar measure to xwOBA, except xwOBACON takes into account a player's xwOBA when looking at balls put in contact.  This metrics eliminates the impact of walks and strike outs when looking at a player's performance at the plate, instead focusing on only their contact quality."
   ]
  },
  {
   "cell_type": "markdown",
   "id": "0987bb8e",
   "metadata": {},
   "source": [
    "### xBACON:\n",
    "\n",
    "Expected Batting Average on Contact (xBACON): xBACON is very similar to xwOBACON, except it does not added weighted values for the xBA of balls that are put in play.  Often, xBACON is used as an alternative to another metric called BABIP, which measures a player's batting average exclusively on balls hit into the field of play, removing outcomes not affected by the opposing defense (such as home runs).  xBACON is able to take into account home runs in its calculation, making it a better alternative to BABIP."
   ]
  },
  {
   "cell_type": "markdown",
   "id": "51c283b8",
   "metadata": {},
   "source": [
    "###  Average Exit Velocity:\n",
    "\n",
    "Exit Velocity (EV) measures the speed of the baseball as it comes off the bat, immediately after a batter makes contact. In this instance, we are looking at a player's average exit velocity for instances where they made contact."
   ]
  },
  {
   "cell_type": "markdown",
   "id": "10113a0f",
   "metadata": {},
   "source": [
    "### Maximum Exit Velocity:\n",
    "\n",
    "Similar to average exit velocity, maximum exit velocity is the highest speed in which a baseball has come off the respective player's bat through the entirety of the season."
   ]
  },
  {
   "cell_type": "markdown",
   "id": "e1a58b13",
   "metadata": {},
   "source": [
    "### Hard Hit Rate:\n",
    "\n",
    "Hard Hit Rate is the percentage of batted balls for a player which were marked as having an exit velocity of 95 miles per hour or higher."
   ]
  },
  {
   "cell_type": "markdown",
   "id": "a80f079a",
   "metadata": {},
   "source": [
    "### K%:\n",
    "\n",
    "K% is the percentage of at bats which ended in a strike out for the batter."
   ]
  },
  {
   "cell_type": "markdown",
   "id": "bdbc7498",
   "metadata": {},
   "source": [
    "### BB%:\n",
    "\n",
    "BB% is the percentage of at bats which ended in the batter walking for the season."
   ]
  }
 ],
 "metadata": {
  "kernelspec": {
   "display_name": "Python 3 (ipykernel)",
   "language": "python",
   "name": "python3"
  },
  "language_info": {
   "codemirror_mode": {
    "name": "ipython",
    "version": 3
   },
   "file_extension": ".py",
   "mimetype": "text/x-python",
   "name": "python",
   "nbconvert_exporter": "python",
   "pygments_lexer": "ipython3",
   "version": "3.9.12"
  }
 },
 "nbformat": 4,
 "nbformat_minor": 5
}
